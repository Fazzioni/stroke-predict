{
 "cells": [
  {
   "cell_type": "code",
   "execution_count": 29,
   "metadata": {
    "pycharm": {
     "name": "#%%\n"
    }
   },
   "outputs": [],
   "source": [
    "import pandas as pd\n",
    "import tensorflow\n",
    "import numpy as np\n",
    "from sklearn.model_selection import train_test_split\n",
    "import tensorflow as tf\n",
    "from tensorflow import keras\n",
    "from tensorflow.keras import layers\n",
    "import matplotlib.pyplot as plt\n",
    "import datetime\n",
    "\n",
    "# for jupyter\n",
    "%matplotlib inline"
   ]
  },
  {
   "cell_type": "code",
   "execution_count": 30,
   "metadata": {
    "pycharm": {
     "name": "#%%\n"
    },
    "scrolled": true
   },
   "outputs": [
    {
     "name": "stdout",
     "output_type": "stream",
     "text": [
      "0.01804147465437788\n"
     ]
    },
    {
     "data": {
      "text/html": [
       "<div>\n",
       "<style scoped>\n",
       "    .dataframe tbody tr th:only-of-type {\n",
       "        vertical-align: middle;\n",
       "    }\n",
       "\n",
       "    .dataframe tbody tr th {\n",
       "        vertical-align: top;\n",
       "    }\n",
       "\n",
       "    .dataframe thead th {\n",
       "        text-align: right;\n",
       "    }\n",
       "</style>\n",
       "<table border=\"1\" class=\"dataframe\">\n",
       "  <thead>\n",
       "    <tr style=\"text-align: right;\">\n",
       "      <th></th>\n",
       "      <th>id</th>\n",
       "      <th>gender</th>\n",
       "      <th>age</th>\n",
       "      <th>hypertension</th>\n",
       "      <th>heart_disease</th>\n",
       "      <th>ever_married</th>\n",
       "      <th>work_type</th>\n",
       "      <th>Residence_type</th>\n",
       "      <th>avg_glucose_level</th>\n",
       "      <th>bmi</th>\n",
       "      <th>smoking_status</th>\n",
       "      <th>stroke</th>\n",
       "    </tr>\n",
       "  </thead>\n",
       "  <tbody>\n",
       "    <tr>\n",
       "      <th>0</th>\n",
       "      <td>30669</td>\n",
       "      <td>Male</td>\n",
       "      <td>3.0</td>\n",
       "      <td>0</td>\n",
       "      <td>0</td>\n",
       "      <td>No</td>\n",
       "      <td>children</td>\n",
       "      <td>Rural</td>\n",
       "      <td>95.12</td>\n",
       "      <td>18.0</td>\n",
       "      <td>NaN</td>\n",
       "      <td>0</td>\n",
       "    </tr>\n",
       "    <tr>\n",
       "      <th>1</th>\n",
       "      <td>30468</td>\n",
       "      <td>Male</td>\n",
       "      <td>58.0</td>\n",
       "      <td>1</td>\n",
       "      <td>0</td>\n",
       "      <td>Yes</td>\n",
       "      <td>Private</td>\n",
       "      <td>Urban</td>\n",
       "      <td>87.96</td>\n",
       "      <td>39.2</td>\n",
       "      <td>never smoked</td>\n",
       "      <td>0</td>\n",
       "    </tr>\n",
       "    <tr>\n",
       "      <th>2</th>\n",
       "      <td>16523</td>\n",
       "      <td>Female</td>\n",
       "      <td>8.0</td>\n",
       "      <td>0</td>\n",
       "      <td>0</td>\n",
       "      <td>No</td>\n",
       "      <td>Private</td>\n",
       "      <td>Urban</td>\n",
       "      <td>110.89</td>\n",
       "      <td>17.6</td>\n",
       "      <td>NaN</td>\n",
       "      <td>0</td>\n",
       "    </tr>\n",
       "    <tr>\n",
       "      <th>3</th>\n",
       "      <td>56543</td>\n",
       "      <td>Female</td>\n",
       "      <td>70.0</td>\n",
       "      <td>0</td>\n",
       "      <td>0</td>\n",
       "      <td>Yes</td>\n",
       "      <td>Private</td>\n",
       "      <td>Rural</td>\n",
       "      <td>69.04</td>\n",
       "      <td>35.9</td>\n",
       "      <td>formerly smoked</td>\n",
       "      <td>0</td>\n",
       "    </tr>\n",
       "    <tr>\n",
       "      <th>4</th>\n",
       "      <td>46136</td>\n",
       "      <td>Male</td>\n",
       "      <td>14.0</td>\n",
       "      <td>0</td>\n",
       "      <td>0</td>\n",
       "      <td>No</td>\n",
       "      <td>Never_worked</td>\n",
       "      <td>Rural</td>\n",
       "      <td>161.28</td>\n",
       "      <td>19.1</td>\n",
       "      <td>NaN</td>\n",
       "      <td>0</td>\n",
       "    </tr>\n",
       "  </tbody>\n",
       "</table>\n",
       "</div>"
      ],
      "text/plain": [
       "      id  gender   age  hypertension  heart_disease ever_married  \\\n",
       "0  30669    Male   3.0             0              0           No   \n",
       "1  30468    Male  58.0             1              0          Yes   \n",
       "2  16523  Female   8.0             0              0           No   \n",
       "3  56543  Female  70.0             0              0          Yes   \n",
       "4  46136    Male  14.0             0              0           No   \n",
       "\n",
       "      work_type Residence_type  avg_glucose_level   bmi   smoking_status  \\\n",
       "0      children          Rural              95.12  18.0              NaN   \n",
       "1       Private          Urban              87.96  39.2     never smoked   \n",
       "2       Private          Urban             110.89  17.6              NaN   \n",
       "3       Private          Rural              69.04  35.9  formerly smoked   \n",
       "4  Never_worked          Rural             161.28  19.1              NaN   \n",
       "\n",
       "   stroke  \n",
       "0       0  \n",
       "1       0  \n",
       "2       0  \n",
       "3       0  \n",
       "4       0  "
      ]
     },
     "execution_count": 30,
     "metadata": {},
     "output_type": "execute_result"
    }
   ],
   "source": [
    "dt = pd.read_csv('train.csv')\n",
    "print(783/len(dt))\n",
    "dt.head()"
   ]
  },
  {
   "cell_type": "code",
   "execution_count": 35,
   "metadata": {
    "pycharm": {
     "name": "#%%\n"
    }
   },
   "outputs": [
    {
     "data": {
      "text/html": [
       "<div>\n",
       "<style scoped>\n",
       "    .dataframe tbody tr th:only-of-type {\n",
       "        vertical-align: middle;\n",
       "    }\n",
       "\n",
       "    .dataframe tbody tr th {\n",
       "        vertical-align: top;\n",
       "    }\n",
       "\n",
       "    .dataframe thead th {\n",
       "        text-align: right;\n",
       "    }\n",
       "</style>\n",
       "<table border=\"1\" class=\"dataframe\">\n",
       "  <thead>\n",
       "    <tr style=\"text-align: right;\">\n",
       "      <th></th>\n",
       "      <th>id</th>\n",
       "      <th>gender</th>\n",
       "      <th>age</th>\n",
       "      <th>hypertension</th>\n",
       "      <th>heart_disease</th>\n",
       "      <th>ever_married</th>\n",
       "      <th>Residence_type</th>\n",
       "      <th>avg_glucose_level</th>\n",
       "      <th>bmi</th>\n",
       "      <th>stroke</th>\n",
       "      <th>work_type_Private</th>\n",
       "      <th>work_type_Self-employed</th>\n",
       "      <th>work_type_Govt_job</th>\n",
       "      <th>work_type_Never_worked</th>\n",
       "    </tr>\n",
       "  </thead>\n",
       "  <tbody>\n",
       "    <tr>\n",
       "      <th>0</th>\n",
       "      <td>30669</td>\n",
       "      <td>0</td>\n",
       "      <td>0.03</td>\n",
       "      <td>0</td>\n",
       "      <td>0</td>\n",
       "      <td>1</td>\n",
       "      <td>1</td>\n",
       "      <td>0.163755</td>\n",
       "      <td>0.180</td>\n",
       "      <td>0</td>\n",
       "      <td>0</td>\n",
       "      <td>0</td>\n",
       "      <td>0</td>\n",
       "      <td>0</td>\n",
       "    </tr>\n",
       "    <tr>\n",
       "      <th>1</th>\n",
       "      <td>30468</td>\n",
       "      <td>0</td>\n",
       "      <td>0.58</td>\n",
       "      <td>1</td>\n",
       "      <td>0</td>\n",
       "      <td>0</td>\n",
       "      <td>0</td>\n",
       "      <td>0.134531</td>\n",
       "      <td>0.392</td>\n",
       "      <td>0</td>\n",
       "      <td>1</td>\n",
       "      <td>0</td>\n",
       "      <td>0</td>\n",
       "      <td>0</td>\n",
       "    </tr>\n",
       "    <tr>\n",
       "      <th>2</th>\n",
       "      <td>16523</td>\n",
       "      <td>1</td>\n",
       "      <td>0.08</td>\n",
       "      <td>0</td>\n",
       "      <td>0</td>\n",
       "      <td>1</td>\n",
       "      <td>0</td>\n",
       "      <td>0.228122</td>\n",
       "      <td>0.176</td>\n",
       "      <td>0</td>\n",
       "      <td>1</td>\n",
       "      <td>0</td>\n",
       "      <td>0</td>\n",
       "      <td>0</td>\n",
       "    </tr>\n",
       "    <tr>\n",
       "      <th>3</th>\n",
       "      <td>56543</td>\n",
       "      <td>1</td>\n",
       "      <td>0.70</td>\n",
       "      <td>0</td>\n",
       "      <td>0</td>\n",
       "      <td>0</td>\n",
       "      <td>1</td>\n",
       "      <td>0.057306</td>\n",
       "      <td>0.359</td>\n",
       "      <td>0</td>\n",
       "      <td>1</td>\n",
       "      <td>0</td>\n",
       "      <td>0</td>\n",
       "      <td>0</td>\n",
       "    </tr>\n",
       "    <tr>\n",
       "      <th>4</th>\n",
       "      <td>46136</td>\n",
       "      <td>0</td>\n",
       "      <td>0.14</td>\n",
       "      <td>0</td>\n",
       "      <td>0</td>\n",
       "      <td>1</td>\n",
       "      <td>1</td>\n",
       "      <td>0.433796</td>\n",
       "      <td>0.191</td>\n",
       "      <td>0</td>\n",
       "      <td>0</td>\n",
       "      <td>0</td>\n",
       "      <td>0</td>\n",
       "      <td>1</td>\n",
       "    </tr>\n",
       "    <tr>\n",
       "      <th>...</th>\n",
       "      <td>...</td>\n",
       "      <td>...</td>\n",
       "      <td>...</td>\n",
       "      <td>...</td>\n",
       "      <td>...</td>\n",
       "      <td>...</td>\n",
       "      <td>...</td>\n",
       "      <td>...</td>\n",
       "      <td>...</td>\n",
       "      <td>...</td>\n",
       "      <td>...</td>\n",
       "      <td>...</td>\n",
       "      <td>...</td>\n",
       "      <td>...</td>\n",
       "    </tr>\n",
       "    <tr>\n",
       "      <th>43395</th>\n",
       "      <td>56196</td>\n",
       "      <td>1</td>\n",
       "      <td>0.10</td>\n",
       "      <td>0</td>\n",
       "      <td>0</td>\n",
       "      <td>1</td>\n",
       "      <td>0</td>\n",
       "      <td>0.014857</td>\n",
       "      <td>0.204</td>\n",
       "      <td>0</td>\n",
       "      <td>0</td>\n",
       "      <td>0</td>\n",
       "      <td>0</td>\n",
       "      <td>0</td>\n",
       "    </tr>\n",
       "    <tr>\n",
       "      <th>43396</th>\n",
       "      <td>5450</td>\n",
       "      <td>1</td>\n",
       "      <td>0.56</td>\n",
       "      <td>0</td>\n",
       "      <td>0</td>\n",
       "      <td>0</td>\n",
       "      <td>0</td>\n",
       "      <td>0.647388</td>\n",
       "      <td>0.554</td>\n",
       "      <td>0</td>\n",
       "      <td>0</td>\n",
       "      <td>0</td>\n",
       "      <td>1</td>\n",
       "      <td>0</td>\n",
       "    </tr>\n",
       "    <tr>\n",
       "      <th>43397</th>\n",
       "      <td>28375</td>\n",
       "      <td>1</td>\n",
       "      <td>0.82</td>\n",
       "      <td>1</td>\n",
       "      <td>0</td>\n",
       "      <td>0</td>\n",
       "      <td>0</td>\n",
       "      <td>0.150776</td>\n",
       "      <td>0.289</td>\n",
       "      <td>0</td>\n",
       "      <td>1</td>\n",
       "      <td>0</td>\n",
       "      <td>0</td>\n",
       "      <td>0</td>\n",
       "    </tr>\n",
       "    <tr>\n",
       "      <th>43398</th>\n",
       "      <td>27973</td>\n",
       "      <td>0</td>\n",
       "      <td>0.40</td>\n",
       "      <td>0</td>\n",
       "      <td>0</td>\n",
       "      <td>0</td>\n",
       "      <td>0</td>\n",
       "      <td>0.180245</td>\n",
       "      <td>0.332</td>\n",
       "      <td>0</td>\n",
       "      <td>1</td>\n",
       "      <td>0</td>\n",
       "      <td>0</td>\n",
       "      <td>0</td>\n",
       "    </tr>\n",
       "    <tr>\n",
       "      <th>43399</th>\n",
       "      <td>36271</td>\n",
       "      <td>1</td>\n",
       "      <td>0.82</td>\n",
       "      <td>0</td>\n",
       "      <td>0</td>\n",
       "      <td>0</td>\n",
       "      <td>0</td>\n",
       "      <td>0.099918</td>\n",
       "      <td>0.206</td>\n",
       "      <td>0</td>\n",
       "      <td>1</td>\n",
       "      <td>0</td>\n",
       "      <td>0</td>\n",
       "      <td>0</td>\n",
       "    </tr>\n",
       "  </tbody>\n",
       "</table>\n",
       "<p>43389 rows × 14 columns</p>\n",
       "</div>"
      ],
      "text/plain": [
       "          id  gender   age  hypertension  heart_disease  ever_married  \\\n",
       "0      30669       0  0.03             0              0             1   \n",
       "1      30468       0  0.58             1              0             0   \n",
       "2      16523       1  0.08             0              0             1   \n",
       "3      56543       1  0.70             0              0             0   \n",
       "4      46136       0  0.14             0              0             1   \n",
       "...      ...     ...   ...           ...            ...           ...   \n",
       "43395  56196       1  0.10             0              0             1   \n",
       "43396   5450       1  0.56             0              0             0   \n",
       "43397  28375       1  0.82             1              0             0   \n",
       "43398  27973       0  0.40             0              0             0   \n",
       "43399  36271       1  0.82             0              0             0   \n",
       "\n",
       "       Residence_type  avg_glucose_level    bmi  stroke  work_type_Private  \\\n",
       "0                   1           0.163755  0.180       0                  0   \n",
       "1                   0           0.134531  0.392       0                  1   \n",
       "2                   0           0.228122  0.176       0                  1   \n",
       "3                   1           0.057306  0.359       0                  1   \n",
       "4                   1           0.433796  0.191       0                  0   \n",
       "...               ...                ...    ...     ...                ...   \n",
       "43395               0           0.014857  0.204       0                  0   \n",
       "43396               0           0.647388  0.554       0                  0   \n",
       "43397               0           0.150776  0.289       0                  1   \n",
       "43398               0           0.180245  0.332       0                  1   \n",
       "43399               0           0.099918  0.206       0                  1   \n",
       "\n",
       "       work_type_Self-employed  work_type_Govt_job  work_type_Never_worked  \n",
       "0                            0                   0                       0  \n",
       "1                            0                   0                       0  \n",
       "2                            0                   0                       0  \n",
       "3                            0                   0                       0  \n",
       "4                            0                   0                       1  \n",
       "...                        ...                 ...                     ...  \n",
       "43395                        0                   0                       0  \n",
       "43396                        0                   1                       0  \n",
       "43397                        0                   0                       0  \n",
       "43398                        0                   0                       0  \n",
       "43399                        0                   0                       0  \n",
       "\n",
       "[43389 rows x 14 columns]"
      ]
     },
     "execution_count": 35,
     "metadata": {},
     "output_type": "execute_result"
    }
   ],
   "source": [
    "def Normaliza_dados(dados):\n",
    "    #d = dados.copy()\n",
    "    \n",
    "    d = dados[dados['gender'] != 'Other'].copy()\n",
    "    # d = d[d['age'] >= 18]\n",
    "    \n",
    "    \n",
    "    #d = d[d['work_type'] != \"Never_worked\" ]\n",
    "    d.drop('smoking_status',axis=1,inplace=True)\n",
    "\n",
    "\n",
    "    \n",
    "    sim_nao = ['yes','no']\n",
    "    residencia = ['Urban', 'Rural']\n",
    "    smokes = ['formerly smoked', 'never smoked', 'smokes', 'Unknown']\n",
    "\n",
    "\n",
    "\n",
    "    def set_gender(x):\n",
    "        sexo = ['Male', 'Female','Other']\n",
    "        r = sexo.index(x)\n",
    "        if r == 2:\n",
    "            r = 0.5\n",
    "        return r\n",
    "    \n",
    "    d['gender'] = d['gender'].apply(set_gender)\n",
    "\n",
    "    d['ever_married'] = d['ever_married'].apply( lambda x: sim_nao.index(x.lower()))\n",
    "    d['Residence_type'] = d['Residence_type'].apply( lambda x: residencia.index(x))\n",
    "\n",
    "    lista = ['Private', 'Self-employed', 'Govt_job', 'Never_worked']\n",
    "    #lista = ['Private', 'Self-employed', 'Govt_job']\n",
    "    for i in lista:\n",
    "        d['work_type_'+i] = dt['work_type'].apply(lambda x: 1 if x == i else 0)\n",
    "    #d['work'] = d['work_type'].apply(lambda x: lista.index(x))\n",
    "    d = d.drop('work_type',axis=1)\n",
    "\n",
    "    d['age'] = d['age'].apply(lambda x: x/100)\n",
    "    d['avg_glucose_level'] = d['avg_glucose_level'].apply(lambda x: (x-55)/(300 - 55) )\n",
    "\n",
    "\n",
    "    media_imc = d['bmi'].mean()\n",
    "    d['bmi'] = d['bmi'].apply(lambda x: media_imc if (str(x) == 'nan') else x)\n",
    "\n",
    "    d['bmi'] = d['bmi']/100\n",
    "\n",
    "    return d\n",
    "d = Normaliza_dados(dt)\n",
    "d"
   ]
  },
  {
   "cell_type": "code",
   "execution_count": 150,
   "metadata": {
    "pycharm": {
     "name": "#%%\n"
    }
   },
   "outputs": [
    {
     "data": {
      "image/png": "[encoded data removed]",
      "text/plain": [
       "<Figure size 720x360 with 1 Axes>"
      ]
     },
     "metadata": {
      "needs_background": "light"
     },
     "output_type": "display_data"
    },
    {
     "data": {
      "image/png": "[encoded data removed]",
      "text/plain": [
       "<Figure size 720x360 with 1 Axes>"
      ]
     },
     "metadata": {
      "needs_background": "light"
     },
     "output_type": "display_data"
    },
    {
     "data": {
      "image/png": "[encoded data removed]",
      "text/plain": [
       "<Figure size 720x360 with 1 Axes>"
      ]
     },
     "metadata": {
      "needs_background": "light"
     },
     "output_type": "display_data"
    },
    {
     "data": {
      "image/png": "[encoded data removed]",
      "text/plain": [
       "<Figure size 720x360 with 1 Axes>"
      ]
     },
     "metadata": {
      "needs_background": "light"
     },
     "output_type": "display_data"
    },
    {
     "data": {
      "image/png": "[encoded data removed]",
      "text/plain": [
       "<Figure size 720x360 with 1 Axes>"
      ]
     },
     "metadata": {
      "needs_background": "light"
     },
     "output_type": "display_data"
    },
    {
     "data": {
      "image/png": "[encoded data removed]",
      "text/plain": [
       "<Figure size 720x360 with 1 Axes>"
      ]
     },
     "metadata": {
      "needs_background": "light"
     },
     "output_type": "display_data"
    },
    {
     "data": {
      "image/png": "[encoded data removed]",
      "text/plain": [
       "<Figure size 720x360 with 1 Axes>"
      ]
     },
     "metadata": {
      "needs_background": "light"
     },
     "output_type": "display_data"
    }
   ],
   "source": [
    "def strokes(x,v = 1):\n",
    "    r = x[x['stroke'] == v ]\n",
    "   # print('strokes positivados:',len(r))\n",
    "    return r\n",
    "\n",
    "\"\"\"a = d[d['smoking_status'].isnull()]\n",
    "a[a['stroke'] == 1]\n",
    "d['smoking_status'].unique()\"\"\"\n",
    "\n",
    "def change_text(text):\n",
    "    if isinstance(text,str):\n",
    "        return text.replace(' ','\\n').replace('_','\\n').replace('-','\\n')\n",
    "    elif (isinstance(text,int)) or  (isinstance(text,(int, np.integer))): \n",
    "        return \"Yes\" if text == 1 else \"No\"\n",
    "    elif text == None:\n",
    "        return \"Vazio\"\n",
    "    else:\n",
    "        return text\n",
    "\n",
    "\n",
    "plt.rcParams[\"figure.figsize\"] = (10,5)\n",
    "def plotagem(x,col):\n",
    "    xs = x[col].unique()\n",
    "    percents = []\n",
    "    #print(\"COLUNA: \",col,\":      \",xs)\n",
    "    for i,vx in enumerate(xs):\n",
    "\n",
    "        classe = x[ x[col] == vx ]\n",
    "        p, n = len(strokes(classe,1)), len(strokes(classe,0))\n",
    "\n",
    "\n",
    "        plt.bar([(i*2)],[n], color='b' )\n",
    "        plt.bar([(i*2)+1],[p], color='r' )\n",
    "        percent = 0\n",
    "        if p+n > 0:\n",
    "            percent = round((p/(p+n))*100,2)\n",
    "        percents.append( [ percent, p, (i*2)+1, max(p,n)] )\n",
    "                        \n",
    "    plt.xticks(ticks=[ (i*2)+0.5 for i,x in enumerate(xs)], labels=[change_text(i) for i in xs],fontsize=20)\n",
    "    plt.title(col)\n",
    "    for v in percents:\n",
    "        plt.text(v[2], v[1]+ max(a,key=lambda x: x[3])[3]*0.02, str(v[0])+\"%\", fontsize=12, horizontalalignment='center')\n",
    "        \n",
    "    plt.show( )\n",
    "        #print(f\"Porcentam dos positivados: {(p/(p+n) )*100:.2f}%\")\n",
    "    \n",
    "\n",
    "l = [\n",
    "    \"gender\",\n",
    "    \"hypertension\",\n",
    "    \"heart_disease\",\n",
    "    \"ever_married\",\n",
    "    \"Residence_type\",\n",
    "    \"work_type\",\n",
    "    \"smoking_status\"\n",
    "]\n",
    "\n",
    "for i in l:\n",
    "    plotagem(dt,str(i))\n",
    " \n",
    "\n"
   ]
  },
  {
   "cell_type": "code",
   "execution_count": 5,
   "metadata": {
    "pycharm": {
     "name": "#%%\n"
    }
   },
   "outputs": [
    {
     "data": {
      "text/plain": [
       "'\\n# \"work_type_Private\",\"work_type_Self-employed\", \"work_type_Govt_job\",\\nplt.rcParams[\"figure.figsize\"] = (30,30)\\n\\np = strokes(d,1)\\nn = strokes(d,0)\\n\\ntp = [p[p[\\'work\\'] == i] for i in range(1,4)]\\ntn = [n[n[\\'work\\'] == i] for i in range(1,4)]\\n\\n#lista = [\\'Private\\', \\'Self-employed\\', \\'Govt_job\\']\\nmarkers = [\\'s\\',\\'+\\',0]\\n\\nfor i in range(3):\\n    plt.scatter(y=tn[i][\\'bmi\\'],x=tn[i][\\'avg_glucose_level\\'], c=\\'g\\', alpha=0.1, marker=markers[i])\\n    plt.scatter(y=tp[i][\\'bmi\\'],x=tp[i][\\'avg_glucose_level\\'], c=\\'r\\', alpha=1,  marker=markers[i])\\n\\n#\"smoking_status\"]\\n'"
      ]
     },
     "execution_count": 5,
     "metadata": {},
     "output_type": "execute_result"
    }
   ],
   "source": [
    "\"\"\"\n",
    "# \"work_type_Private\",\"work_type_Self-employed\", \"work_type_Govt_job\",\n",
    "plt.rcParams[\"figure.figsize\"] = (30,30)\n",
    "\n",
    "p = strokes(d,1)\n",
    "n = strokes(d,0)\n",
    "\n",
    "tp = [p[p['work'] == i] for i in range(1,4)]\n",
    "tn = [n[n['work'] == i] for i in range(1,4)]\n",
    "\n",
    "#lista = ['Private', 'Self-employed', 'Govt_job']\n",
    "markers = ['s','+',0]\n",
    "\n",
    "for i in range(3):\n",
    "    plt.scatter(y=tn[i]['bmi'],x=tn[i]['avg_glucose_level'], c='g', alpha=0.1, marker=markers[i])\n",
    "    plt.scatter(y=tp[i]['bmi'],x=tp[i]['avg_glucose_level'], c='r', alpha=1,  marker=markers[i])\n",
    "\n",
    "#\"smoking_status\"]\n",
    "\"\"\""
   ]
  },
  {
   "cell_type": "code",
   "execution_count": 6,
   "metadata": {
    "pycharm": {
     "name": "#%%\n"
    }
   },
   "outputs": [
    {
     "data": {
      "text/plain": [
       "\"print(len(strokes(d[d['smoking_status'].isnull()],1)))\\nprint(len(strokes(d[d['smoking_status'].isnull()],0)))\\n\\n\\nprint(len(strokes(d[d['smoking_status'] == 'smokes'],1)))\\nprint(len(strokes(d[d['smoking_status']== 'smokes'],0)))\""
      ]
     },
     "execution_count": 6,
     "metadata": {},
     "output_type": "execute_result"
    }
   ],
   "source": [
    "\"\"\"print(len(strokes(d[d['smoking_status'].isnull()],1)))\n",
    "print(len(strokes(d[d['smoking_status'].isnull()],0)))\n",
    "\n",
    "\n",
    "print(len(strokes(d[d['smoking_status'] == 'smokes'],1)))\n",
    "print(len(strokes(d[d['smoking_status']== 'smokes'],0)))\"\"\"\n"
   ]
  },
  {
   "cell_type": "code",
   "execution_count": 7,
   "metadata": {
    "pycharm": {
     "name": "#%%\n"
    }
   },
   "outputs": [],
   "source": [
    "\n",
    "\n",
    "dr = d['stroke']\n",
    "d =d.drop('stroke',axis=1)\n",
    "d =d.drop('id',axis=1)\n",
    "\n",
    "\n",
    "x_tmp,x_valida,y_tmp,y_valida = train_test_split(d, dr,test_size= 0.1, random_state=0)\n",
    "#x_treino,x_teste,y_treino,y_teste = train_test_split(x_tmp, y_tmp,test_size= 0.7, random_state=0)\n",
    "\n",
    "\n",
    "from imblearn.over_sampling import RandomOverSampler\n",
    "oversample = RandomOverSampler(sampling_strategy='minority')\n",
    "oversample = RandomOverSampler(sampling_strategy=0.5)\n",
    "X_over, y_over = oversample.fit_resample(x_tmp, y_tmp)\n",
    "\n",
    "\n",
    "\n",
    "\n",
    "from sklearn.model_selection import train_test_split\n",
    "x_treino,x_teste,y_treino,y_teste = train_test_split(X_over,y_over,test_size=0.3,stratify=y_over,random_state=42)\n",
    "\n",
    "\n",
    "\n",
    "\n"
   ]
  },
  {
   "cell_type": "code",
   "execution_count": 8,
   "metadata": {
    "pycharm": {
     "name": "#%%\n"
    },
    "scrolled": true
   },
   "outputs": [
    {
     "name": "stdout",
     "output_type": "stream",
     "text": [
      "Model: \"sequential\"\n",
      "_________________________________________________________________\n",
      " Layer (type)                Output Shape              Param #   \n",
      "=================================================================\n",
      " dense (Dense)               (None, 30)                390       \n",
      "                                                                 \n",
      " dense_1 (Dense)             (None, 40)                1240      \n",
      "                                                                 \n",
      " dense_2 (Dense)             (None, 20)                820       \n",
      "                                                                 \n",
      " dense_3 (Dense)             (None, 1)                 21        \n",
      "                                                                 \n",
      "=================================================================\n",
      "Total params: 2,471\n",
      "Trainable params: 2,471\n",
      "Non-trainable params: 0\n",
      "_________________________________________________________________\n"
     ]
    },
    {
     "name": "stderr",
     "output_type": "stream",
     "text": [
      "2022-08-04 23:00:09.915630: E tensorflow/stream_executor/cuda/cuda_driver.cc:271] failed call to cuInit: CUDA_ERROR_NO_DEVICE: no CUDA-capable device is detected\n",
      "2022-08-04 23:00:09.915677: I tensorflow/stream_executor/cuda/cuda_diagnostics.cc:156] kernel driver does not appear to be running on this host (archlinux): /proc/driver/nvidia/version does not exist\n",
      "2022-08-04 23:00:09.916788: I tensorflow/core/platform/cpu_feature_guard.cc:193] This TensorFlow binary is optimized with oneAPI Deep Neural Network Library (oneDNN) to use the following CPU instructions in performance-critical operations:  AVX2 FMA\n",
      "To enable them in other operations, rebuild TensorFlow with the appropriate compiler flags.\n"
     ]
    },
    {
     "name": "stdout",
     "output_type": "stream",
     "text": [
      "Epoch 1/50\n",
      "68/68 - 4s - loss: 0.2061 - accuracy: 0.6771 - recall: 0.1670 - val_loss: 0.1727 - val_accuracy: 0.7373 - val_recall: 0.5272 - 4s/epoch - 60ms/step\n",
      "Epoch 2/50\n",
      "68/68 - 2s - loss: 0.1672 - accuracy: 0.7479 - recall: 0.6046 - val_loss: 0.1589 - val_accuracy: 0.7558 - val_recall: 0.6171 - 2s/epoch - 24ms/step\n",
      "Epoch 3/50\n",
      "68/68 - 2s - loss: 0.1564 - accuracy: 0.7715 - recall: 0.6602 - val_loss: 0.1523 - val_accuracy: 0.7720 - val_recall: 0.7016 - 2s/epoch - 23ms/step\n",
      "Epoch 4/50\n",
      "68/68 - 2s - loss: 0.1510 - accuracy: 0.7725 - recall: 0.6738 - val_loss: 0.1494 - val_accuracy: 0.7786 - val_recall: 0.7021 - 2s/epoch - 29ms/step\n",
      "Epoch 5/50\n",
      "68/68 - 3s - loss: 0.1474 - accuracy: 0.7812 - recall: 0.7152 - val_loss: 0.1500 - val_accuracy: 0.7752 - val_recall: 0.7646 - 3s/epoch - 42ms/step\n",
      "Epoch 6/50\n",
      "68/68 - 1s - loss: 0.1449 - accuracy: 0.7928 - recall: 0.7216 - val_loss: 0.1487 - val_accuracy: 0.7786 - val_recall: 0.7590 - 1s/epoch - 16ms/step\n",
      "Epoch 7/50\n",
      "68/68 - 1s - loss: 0.1454 - accuracy: 0.7861 - recall: 0.7330 - val_loss: 0.1541 - val_accuracy: 0.7663 - val_recall: 0.8077 - 1s/epoch - 18ms/step\n",
      "Epoch 8/50\n",
      "68/68 - 1s - loss: 0.1441 - accuracy: 0.7864 - recall: 0.7338 - val_loss: 0.1477 - val_accuracy: 0.7804 - val_recall: 0.6873 - 1s/epoch - 16ms/step\n",
      "Epoch 9/50\n",
      "68/68 - 1s - loss: 0.1448 - accuracy: 0.7866 - recall: 0.7209 - val_loss: 0.1473 - val_accuracy: 0.7796 - val_recall: 0.7147 - 1s/epoch - 15ms/step\n",
      "Epoch 10/50\n",
      "68/68 - 1s - loss: 0.1438 - accuracy: 0.7879 - recall: 0.7373 - val_loss: 0.1468 - val_accuracy: 0.7816 - val_recall: 0.7224 - 936ms/epoch - 14ms/step\n",
      "Epoch 11/50\n",
      "68/68 - 1s - loss: 0.1426 - accuracy: 0.7916 - recall: 0.7245 - val_loss: 0.1545 - val_accuracy: 0.7645 - val_recall: 0.8205 - 969ms/epoch - 14ms/step\n",
      "Epoch 12/50\n",
      "68/68 - 1s - loss: 0.1434 - accuracy: 0.7871 - recall: 0.7502 - val_loss: 0.1463 - val_accuracy: 0.7848 - val_recall: 0.6934 - 990ms/epoch - 15ms/step\n",
      "Epoch 13/50\n",
      "68/68 - 1s - loss: 0.1433 - accuracy: 0.7931 - recall: 0.7380 - val_loss: 0.1486 - val_accuracy: 0.7778 - val_recall: 0.7765 - 979ms/epoch - 14ms/step\n",
      "Epoch 14/50\n",
      "68/68 - 1s - loss: 0.1424 - accuracy: 0.7899 - recall: 0.7345 - val_loss: 0.1467 - val_accuracy: 0.7830 - val_recall: 0.6772 - 1s/epoch - 15ms/step\n",
      "Epoch 15/50\n",
      "68/68 - 1s - loss: 0.1425 - accuracy: 0.7911 - recall: 0.7359 - val_loss: 0.1475 - val_accuracy: 0.7821 - val_recall: 0.6522 - 1s/epoch - 16ms/step\n",
      "Epoch 16/50\n",
      "68/68 - 2s - loss: 0.1416 - accuracy: 0.7919 - recall: 0.7323 - val_loss: 0.1534 - val_accuracy: 0.7662 - val_recall: 0.8184 - 2s/epoch - 23ms/step\n",
      "Epoch 17/50\n",
      "68/68 - 1s - loss: 0.1415 - accuracy: 0.7938 - recall: 0.7416 - val_loss: 0.1468 - val_accuracy: 0.7828 - val_recall: 0.7547 - 963ms/epoch - 14ms/step\n",
      "Epoch 18/50\n",
      "68/68 - 1s - loss: 0.1404 - accuracy: 0.7963 - recall: 0.7587 - val_loss: 0.1554 - val_accuracy: 0.7587 - val_recall: 0.4864 - 956ms/epoch - 14ms/step\n",
      "Epoch 19/50\n",
      "68/68 - 1s - loss: 0.1411 - accuracy: 0.7933 - recall: 0.7323 - val_loss: 0.1465 - val_accuracy: 0.7840 - val_recall: 0.7594 - 936ms/epoch - 14ms/step\n",
      "Epoch 20/50\n",
      "68/68 - 1s - loss: 0.1402 - accuracy: 0.7928 - recall: 0.7430 - val_loss: 0.1458 - val_accuracy: 0.7844 - val_recall: 0.6911 - 934ms/epoch - 14ms/step\n",
      "Epoch 21/50\n",
      "68/68 - 1s - loss: 0.1397 - accuracy: 0.7966 - recall: 0.7445 - val_loss: 0.1490 - val_accuracy: 0.7785 - val_recall: 0.7885 - 964ms/epoch - 14ms/step\n",
      "Epoch 22/50\n",
      "68/68 - 1s - loss: 0.1403 - accuracy: 0.7958 - recall: 0.7545 - val_loss: 0.1459 - val_accuracy: 0.7880 - val_recall: 0.6915 - 947ms/epoch - 14ms/step\n",
      "Epoch 23/50\n",
      "68/68 - 1s - loss: 0.1409 - accuracy: 0.7978 - recall: 0.7380 - val_loss: 0.1457 - val_accuracy: 0.7844 - val_recall: 0.7162 - 988ms/epoch - 15ms/step\n",
      "Epoch 24/50\n",
      "68/68 - 1s - loss: 0.1407 - accuracy: 0.7958 - recall: 0.7409 - val_loss: 0.1472 - val_accuracy: 0.7822 - val_recall: 0.6770 - 968ms/epoch - 14ms/step\n",
      "Epoch 25/50\n",
      "68/68 - 1s - loss: 0.1397 - accuracy: 0.7971 - recall: 0.7480 - val_loss: 0.1461 - val_accuracy: 0.7863 - val_recall: 0.6836 - 950ms/epoch - 14ms/step\n",
      "Epoch 26/50\n",
      "68/68 - 1s - loss: 0.1390 - accuracy: 0.7991 - recall: 0.7402 - val_loss: 0.1462 - val_accuracy: 0.7848 - val_recall: 0.7323 - 943ms/epoch - 14ms/step\n",
      "Epoch 27/50\n",
      "68/68 - 1s - loss: 0.1383 - accuracy: 0.7978 - recall: 0.7502 - val_loss: 0.1463 - val_accuracy: 0.7857 - val_recall: 0.7134 - 985ms/epoch - 14ms/step\n",
      "Epoch 28/50\n",
      "68/68 - 1s - loss: 0.1394 - accuracy: 0.7948 - recall: 0.7438 - val_loss: 0.1462 - val_accuracy: 0.7867 - val_recall: 0.7615 - 1s/epoch - 16ms/step\n",
      "Epoch 29/50\n",
      "68/68 - 1s - loss: 0.1382 - accuracy: 0.8013 - recall: 0.7495 - val_loss: 0.1452 - val_accuracy: 0.7877 - val_recall: 0.7035 - 1s/epoch - 15ms/step\n",
      "Epoch 30/50\n",
      "68/68 - 1s - loss: 0.1387 - accuracy: 0.7991 - recall: 0.7502 - val_loss: 0.1461 - val_accuracy: 0.7861 - val_recall: 0.7543 - 1s/epoch - 15ms/step\n",
      "Epoch 31/50\n",
      "68/68 - 1s - loss: 0.1373 - accuracy: 0.8035 - recall: 0.7602 - val_loss: 0.1455 - val_accuracy: 0.7884 - val_recall: 0.7134 - 945ms/epoch - 14ms/step\n",
      "Epoch 32/50\n",
      "68/68 - 1s - loss: 0.1377 - accuracy: 0.8000 - recall: 0.7516 - val_loss: 0.1459 - val_accuracy: 0.7855 - val_recall: 0.7503 - 999ms/epoch - 15ms/step\n",
      "Epoch 33/50\n",
      "68/68 - 2s - loss: 0.1371 - accuracy: 0.8013 - recall: 0.7480 - val_loss: 0.1451 - val_accuracy: 0.7856 - val_recall: 0.7458 - 2s/epoch - 22ms/step\n",
      "Epoch 34/50\n",
      "68/68 - 1s - loss: 0.1377 - accuracy: 0.7988 - recall: 0.7359 - val_loss: 0.1450 - val_accuracy: 0.7867 - val_recall: 0.7408 - 979ms/epoch - 14ms/step\n",
      "Epoch 35/50\n",
      "68/68 - 1s - loss: 0.1366 - accuracy: 0.8025 - recall: 0.7473 - val_loss: 0.1473 - val_accuracy: 0.7816 - val_recall: 0.7685 - 940ms/epoch - 14ms/step\n",
      "Epoch 36/50\n",
      "68/68 - 1s - loss: 0.1363 - accuracy: 0.8000 - recall: 0.7552 - val_loss: 0.1464 - val_accuracy: 0.7847 - val_recall: 0.6576 - 986ms/epoch - 14ms/step\n",
      "Epoch 37/50\n",
      "68/68 - 1s - loss: 0.1351 - accuracy: 0.8048 - recall: 0.7423 - val_loss: 0.1461 - val_accuracy: 0.7837 - val_recall: 0.6607 - 953ms/epoch - 14ms/step\n",
      "Epoch 38/50\n",
      "68/68 - 2s - loss: 0.1364 - accuracy: 0.8043 - recall: 0.7302 - val_loss: 0.1456 - val_accuracy: 0.7867 - val_recall: 0.7360 - 2s/epoch - 22ms/step\n",
      "Epoch 39/50\n",
      "68/68 - 1s - loss: 0.1348 - accuracy: 0.8077 - recall: 0.7609 - val_loss: 0.1445 - val_accuracy: 0.7892 - val_recall: 0.7215 - 952ms/epoch - 14ms/step\n",
      "Epoch 40/50\n",
      "68/68 - 1s - loss: 0.1336 - accuracy: 0.8100 - recall: 0.7452 - val_loss: 0.1474 - val_accuracy: 0.7822 - val_recall: 0.7765 - 1s/epoch - 17ms/step\n",
      "Epoch 41/50\n",
      "68/68 - 1s - loss: 0.1337 - accuracy: 0.8070 - recall: 0.7502 - val_loss: 0.1458 - val_accuracy: 0.7885 - val_recall: 0.6925 - 1s/epoch - 18ms/step\n",
      "Epoch 42/50\n",
      "68/68 - 2s - loss: 0.1353 - accuracy: 0.8068 - recall: 0.7566 - val_loss: 0.1454 - val_accuracy: 0.7866 - val_recall: 0.6923 - 2s/epoch - 22ms/step\n",
      "Epoch 43/50\n",
      "68/68 - 1s - loss: 0.1336 - accuracy: 0.8048 - recall: 0.7430 - val_loss: 0.1443 - val_accuracy: 0.7893 - val_recall: 0.7309 - 1s/epoch - 22ms/step\n",
      "Epoch 44/50\n",
      "68/68 - 1s - loss: 0.1326 - accuracy: 0.8068 - recall: 0.7430 - val_loss: 0.1462 - val_accuracy: 0.7862 - val_recall: 0.7649 - 1s/epoch - 21ms/step\n",
      "Epoch 45/50\n",
      "68/68 - 1s - loss: 0.1333 - accuracy: 0.8092 - recall: 0.7566 - val_loss: 0.1465 - val_accuracy: 0.7859 - val_recall: 0.7858 - 1s/epoch - 21ms/step\n",
      "Epoch 46/50\n",
      "68/68 - 2s - loss: 0.1319 - accuracy: 0.8105 - recall: 0.7566 - val_loss: 0.1441 - val_accuracy: 0.7879 - val_recall: 0.6935 - 2s/epoch - 26ms/step\n",
      "Epoch 47/50\n",
      "68/68 - 1s - loss: 0.1314 - accuracy: 0.8127 - recall: 0.7480 - val_loss: 0.1450 - val_accuracy: 0.7830 - val_recall: 0.6315 - 1s/epoch - 21ms/step\n",
      "Epoch 48/50\n",
      "68/68 - 1s - loss: 0.1331 - accuracy: 0.8038 - recall: 0.7495 - val_loss: 0.1441 - val_accuracy: 0.7885 - val_recall: 0.7244 - 1s/epoch - 16ms/step\n",
      "Epoch 49/50\n",
      "68/68 - 1s - loss: 0.1322 - accuracy: 0.8110 - recall: 0.7509 - val_loss: 0.1452 - val_accuracy: 0.7834 - val_recall: 0.6423 - 1s/epoch - 19ms/step\n",
      "Epoch 50/50\n",
      "68/68 - 1s - loss: 0.1335 - accuracy: 0.8095 - recall: 0.7273 - val_loss: 0.1446 - val_accuracy: 0.7852 - val_recall: 0.7109 - 1s/epoch - 16ms/step\n",
      "540/540 - 1s - loss: 0.1426 - accuracy: 0.7918 - recall: 0.7164 - 751ms/epoch - 1ms/step\n",
      "1259/1259 - 2s - loss: 0.1430 - accuracy: 0.7882 - recall: 0.7149 - 2s/epoch - 1ms/step\n"
     ]
    },
    {
     "name": "stdout",
     "output_type": "stream",
     "text": [
      "INFO:tensorflow:Assets written to: save/model2/20220804-230115/assets\n"
     ]
    }
   ],
   "source": [
    "\n",
    "\n",
    "optimizer_adam = tf.keras.optimizers.Adam(learning_rate=0.0022)\n",
    "\n",
    "optimizer_SGD = tf.keras.optimizers.SGD(\n",
    "    learning_rate=0.02975,\n",
    "    momentum=0.05,\n",
    "    nesterov=False,\n",
    "    name='SGD')\n",
    "\n",
    "optimizer_Adagrad = tf.keras.optimizers.Adagrad(\n",
    "    learning_rate=0.001,\n",
    "    initial_accumulator_value=0.01,\n",
    "    epsilon=1e-02,\n",
    "    name=\"Adagrad\",\n",
    "\n",
    ")\n",
    "\n",
    "log_dir = \"logs/fit/\" + datetime.datetime.now().strftime(\"%Y%m%d-%H%M%S\")\n",
    "tensorboard_callback = tf.keras.callbacks.TensorBoard(log_dir=log_dir, histogram_freq=1,\n",
    "                                                      write_images=True\n",
    "                                                      )\n",
    "\n",
    "\n",
    "model = tf.keras.models.Sequential()\n",
    "model.add(tf.keras.layers.Dense(30,activation=tf.nn.relu,input_shape=(x_treino.shape[1],)))\n",
    "model.add(tf.keras.layers.Dense(40,activation=tf.nn.relu ))\n",
    "model.add(tf.keras.layers.Dense(20,activation=tf.nn.sigmoid ))\n",
    "model.add(tf.keras.layers.Dense(1,activation=tf.nn.sigmoid ))\n",
    "model.summary()\n",
    "model.compile(optimizer=optimizer_adam,\n",
    "              loss='MeanSquaredError',\n",
    "              metrics=['accuracy','Recall'])\n",
    "\n",
    "tf.summary.trace_on( profiler=False)\n",
    "\n",
    "model.fit(x_treino,y_treino,batch_size=60, epochs=50,verbose=2,  validation_split=0.9,\n",
    "          callbacks=[tensorboard_callback]\n",
    "          )\n",
    "\n",
    "teste  = model.evaluate(x_teste,  y_teste, verbose=2)\n",
    "treino = model.evaluate(x_treino,  y_treino, verbose=2)\n",
    "\n",
    "model.save('save/model2/'+ datetime.datetime.now().strftime(\"%Y%m%d-%H%M%S\"))\n"
   ]
  },
  {
   "cell_type": "code",
   "execution_count": null,
   "metadata": {
    "pycharm": {
     "name": "#%%\n"
    }
   },
   "outputs": [],
   "source": []
  },
  {
   "cell_type": "code",
   "execution_count": null,
   "metadata": {
    "pycharm": {
     "name": "#%%\n"
    }
   },
   "outputs": [],
   "source": []
  },
  {
   "cell_type": "code",
   "execution_count": 10,
   "metadata": {},
   "outputs": [],
   "source": [
    "model.save('logs/model.h5')"
   ]
  },
  {
   "cell_type": "code",
   "execution_count": 15,
   "metadata": {},
   "outputs": [],
   "source": [
    "#    --> Faz a conversão do modelo para o js\n",
    "#    tensorflowjs_converter --input_format=keras logs/model.h5 server/public/model\n",
    "\n"
   ]
  },
  {
   "cell_type": "code",
   "execution_count": null,
   "metadata": {},
   "outputs": [],
   "source": []
  },
  {
   "cell_type": "code",
   "execution_count": null,
   "metadata": {},
   "outputs": [],
   "source": []
  },
  {
   "cell_type": "code",
   "execution_count": null,
   "metadata": {
    "pycharm": {
     "name": "#%%\n"
    }
   },
   "outputs": [],
   "source": [
    "print(model.evaluate(x_valida,  y_valida, verbose=2))"
   ]
  },
  {
   "cell_type": "code",
   "execution_count": null,
   "metadata": {
    "pycharm": {
     "name": "#%%\n"
    }
   },
   "outputs": [],
   "source": [
    "t = pd.read_csv(\"22.csv\")"
   ]
  },
  {
   "cell_type": "code",
   "execution_count": null,
   "metadata": {
    "pycharm": {
     "name": "#%%\n"
    }
   },
   "outputs": [],
   "source": [
    "tt = Normaliza_dados(t)\n",
    "tt = tt.drop('id',axis=1)\n",
    "tt"
   ]
  },
  {
   "cell_type": "code",
   "execution_count": null,
   "metadata": {},
   "outputs": [],
   "source": [
    "valores = model.predict(tt)\n",
    "valores"
   ]
  },
  {
   "cell_type": "code",
   "execution_count": null,
   "metadata": {},
   "outputs": [],
   "source": [
    "val = [ 1 if x > 0.5 else 0 for x in valores]\n",
    "print(sum(val)/len(val))\n",
    "print(\"len:\",len(val))\n",
    "\n",
    "#df = \n",
    "df = t.copy()\n",
    "df['stroke'] = val\n",
    "df.drop([\"gender\",\"age\",\"hypertension\",\"heart_disease\",\"ever_married\",\"work_type\",\"Residence_type\",\"avg_glucose_level\",\"bmi\",\"smoking_status\"],axis=1,inplace=True)\n",
    "df.reset_index(drop=True, inplace=True)\n",
    "df['id'].set_index=True\n",
    "\n",
    "\n",
    "df.to_csv(\"final.csv\",index=False)\n",
    "df"
   ]
  },
  {
   "cell_type": "code",
   "execution_count": 21,
   "metadata": {},
   "outputs": [
    {
     "data": {
      "text/plain": [
       "array([0. , 1. , 0.5])"
      ]
     },
     "execution_count": 21,
     "metadata": {},
     "output_type": "execute_result"
    }
   ],
   "source": [
    "d[d['gender'] != 'Other']['gender'].unique()"
   ]
  },
  {
   "cell_type": "code",
   "execution_count": 61,
   "metadata": {},
   "outputs": [
    {
     "name": "stdout",
     "output_type": "stream",
     "text": [
      "<class 'pandas.core.frame.DataFrame'>\n",
      "RangeIndex: 43400 entries, 0 to 43399\n",
      "Data columns (total 12 columns):\n",
      " #   Column             Non-Null Count  Dtype  \n",
      "---  ------             --------------  -----  \n",
      " 0   id                 43400 non-null  int64  \n",
      " 1   gender             43400 non-null  object \n",
      " 2   age                43400 non-null  float64\n",
      " 3   hypertension       43400 non-null  int64  \n",
      " 4   heart_disease      43400 non-null  int64  \n",
      " 5   ever_married       43400 non-null  object \n",
      " 6   work_type          43400 non-null  object \n",
      " 7   Residence_type     43400 non-null  object \n",
      " 8   avg_glucose_level  43400 non-null  float64\n",
      " 9   bmi                41938 non-null  float64\n",
      " 10  smoking_status     30108 non-null  object \n",
      " 11  stroke             43400 non-null  int64  \n",
      "dtypes: float64(3), int64(4), object(5)\n",
      "memory usage: 4.0+ MB\n"
     ]
    }
   ],
   "source": [
    "dt.info()"
   ]
  },
  {
   "cell_type": "code",
   "execution_count": 90,
   "metadata": {},
   "outputs": [],
   "source": [
    "a = [[1.99, 352, 1, 17372], [1.68, 431, 3, 25234], [0.0, 0, 5, 11]]"
   ]
  },
  {
   "cell_type": "code",
   "execution_count": 146,
   "metadata": {},
   "outputs": [
    {
     "data": {
      "text/plain": [
       "25234"
      ]
     },
     "execution_count": 146,
     "metadata": {},
     "output_type": "execute_result"
    }
   ],
   "source": [
    "max(a,key=lambda x: x[3])[3]"
   ]
  },
  {
   "cell_type": "code",
   "execution_count": null,
   "metadata": {},
   "outputs": [],
   "source": []
  }
 ],
 "metadata": {
  "kernelspec": {
   "display_name": "BIA",
   "language": "python",
   "name": "bia"
  },
  "language_info": {
   "codemirror_mode": {
    "name": "ipython",
    "version": 3
   },
   "file_extension": ".py",
   "mimetype": "text/x-python",
   "name": "python",
   "nbconvert_exporter": "python",
   "pygments_lexer": "ipython3",
   "version": "3.10.5"
  }
 },
 "nbformat": 4,
 "nbformat_minor": 1
}
